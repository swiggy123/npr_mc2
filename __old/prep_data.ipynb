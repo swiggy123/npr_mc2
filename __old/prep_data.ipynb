{
 "cells": [
  {
   "cell_type": "code",
   "execution_count": 28,
   "metadata": {},
   "outputs": [],
   "source": [
    "import pandas as pd"
   ]
  },
  {
   "cell_type": "code",
   "execution_count": 40,
   "metadata": {},
   "outputs": [],
   "source": [
    "question_answer = pd.read_csv(\"./data/raw_data/question_answers.csv\").drop(columns=[\"is_question_bad\",\"validated_answers\"])"
   ]
  },
  {
   "cell_type": "markdown",
   "metadata": {},
   "source": [
    "### Add separate Observation per Answer"
   ]
  },
  {
   "cell_type": "code",
   "execution_count": 41,
   "metadata": {},
   "outputs": [],
   "source": [
    "question_answer['answer_char_ranges'] = question_answer['answer_char_ranges'].str.split('|')\n",
    "question_answer = question_answer.explode('answer_char_ranges',ignore_index=True)"
   ]
  },
  {
   "cell_type": "markdown",
   "metadata": {},
   "source": [
    "### Drop None Answers"
   ]
  },
  {
   "cell_type": "code",
   "execution_count": 42,
   "metadata": {},
   "outputs": [],
   "source": [
    "question_answer = question_answer[question_answer[\"answer_char_ranges\"] != \"None\"].drop_duplicates().reset_index(drop=True)"
   ]
  },
  {
   "cell_type": "code",
   "execution_count": 43,
   "metadata": {},
   "outputs": [
    {
     "data": {
      "text/html": [
       "<div>\n",
       "<style scoped>\n",
       "    .dataframe tbody tr th:only-of-type {\n",
       "        vertical-align: middle;\n",
       "    }\n",
       "\n",
       "    .dataframe tbody tr th {\n",
       "        vertical-align: top;\n",
       "    }\n",
       "\n",
       "    .dataframe thead th {\n",
       "        text-align: right;\n",
       "    }\n",
       "</style>\n",
       "<table border=\"1\" class=\"dataframe\">\n",
       "  <thead>\n",
       "    <tr style=\"text-align: right;\">\n",
       "      <th></th>\n",
       "      <th>story_id</th>\n",
       "      <th>question</th>\n",
       "      <th>answer_char_ranges</th>\n",
       "      <th>is_answer_absent</th>\n",
       "    </tr>\n",
       "  </thead>\n",
       "  <tbody>\n",
       "    <tr>\n",
       "      <th>0</th>\n",
       "      <td>./cnn/stories/42d01e187213e86f5fe617fe32e716ff...</td>\n",
       "      <td>What was the amount of children murdered?</td>\n",
       "      <td>294:297</td>\n",
       "      <td>0.0</td>\n",
       "    </tr>\n",
       "    <tr>\n",
       "      <th>1</th>\n",
       "      <td>./cnn/stories/c48228a52f26aca65c31fad273e66164...</td>\n",
       "      <td>Where was one employee killed?</td>\n",
       "      <td>34:60</td>\n",
       "      <td>0.0</td>\n",
       "    </tr>\n",
       "    <tr>\n",
       "      <th>2</th>\n",
       "      <td>./cnn/stories/c48228a52f26aca65c31fad273e66164...</td>\n",
       "      <td>Where was one employee killed?</td>\n",
       "      <td>1610:1618</td>\n",
       "      <td>0.0</td>\n",
       "    </tr>\n",
       "    <tr>\n",
       "      <th>3</th>\n",
       "      <td>./cnn/stories/c65ed85800e4535f4bbbfa2c34d7d963...</td>\n",
       "      <td>who did say South Africa did not issue a visa ...</td>\n",
       "      <td>103:127</td>\n",
       "      <td>0.0</td>\n",
       "    </tr>\n",
       "    <tr>\n",
       "      <th>4</th>\n",
       "      <td>./cnn/stories/c65ed85800e4535f4bbbfa2c34d7d963...</td>\n",
       "      <td>who did say South Africa did not issue a visa ...</td>\n",
       "      <td>114:127</td>\n",
       "      <td>0.0</td>\n",
       "    </tr>\n",
       "    <tr>\n",
       "      <th>...</th>\n",
       "      <td>...</td>\n",
       "      <td>...</td>\n",
       "      <td>...</td>\n",
       "      <td>...</td>\n",
       "    </tr>\n",
       "    <tr>\n",
       "      <th>191134</th>\n",
       "      <td>./cnn/stories/7c06e091d7294c87ba42df50008783d9...</td>\n",
       "      <td>what is this pattern is all about?</td>\n",
       "      <td>1570:1581,1589:1612,1624:1829,1830:1904,2180:2...</td>\n",
       "      <td>0.0</td>\n",
       "    </tr>\n",
       "    <tr>\n",
       "      <th>191135</th>\n",
       "      <td>./cnn/stories/7b2b414d8cbc968f4df05bcefb2f9f0f...</td>\n",
       "      <td>what are the men being detained for</td>\n",
       "      <td>2386:2435</td>\n",
       "      <td>0.0</td>\n",
       "    </tr>\n",
       "    <tr>\n",
       "      <th>191136</th>\n",
       "      <td>./cnn/stories/7b2b414d8cbc968f4df05bcefb2f9f0f...</td>\n",
       "      <td>what are the men being detained for</td>\n",
       "      <td>1146:1167</td>\n",
       "      <td>0.0</td>\n",
       "    </tr>\n",
       "    <tr>\n",
       "      <th>191137</th>\n",
       "      <td>./cnn/stories/4566e90ca5e65f0323c41319030ca434...</td>\n",
       "      <td>In what year didIvory Coast exit in group stag...</td>\n",
       "      <td>1260:1265</td>\n",
       "      <td>0.0</td>\n",
       "    </tr>\n",
       "    <tr>\n",
       "      <th>191138</th>\n",
       "      <td>./cnn/stories/3666f90c41e7c7f184b5d237fa84fc07...</td>\n",
       "      <td>Where was Jackson born?</td>\n",
       "      <td>22:37</td>\n",
       "      <td>0.0</td>\n",
       "    </tr>\n",
       "  </tbody>\n",
       "</table>\n",
       "<p>191139 rows × 4 columns</p>\n",
       "</div>"
      ],
      "text/plain": [
       "                                                 story_id  \\\n",
       "0       ./cnn/stories/42d01e187213e86f5fe617fe32e716ff...   \n",
       "1       ./cnn/stories/c48228a52f26aca65c31fad273e66164...   \n",
       "2       ./cnn/stories/c48228a52f26aca65c31fad273e66164...   \n",
       "3       ./cnn/stories/c65ed85800e4535f4bbbfa2c34d7d963...   \n",
       "4       ./cnn/stories/c65ed85800e4535f4bbbfa2c34d7d963...   \n",
       "...                                                   ...   \n",
       "191134  ./cnn/stories/7c06e091d7294c87ba42df50008783d9...   \n",
       "191135  ./cnn/stories/7b2b414d8cbc968f4df05bcefb2f9f0f...   \n",
       "191136  ./cnn/stories/7b2b414d8cbc968f4df05bcefb2f9f0f...   \n",
       "191137  ./cnn/stories/4566e90ca5e65f0323c41319030ca434...   \n",
       "191138  ./cnn/stories/3666f90c41e7c7f184b5d237fa84fc07...   \n",
       "\n",
       "                                                 question  \\\n",
       "0               What was the amount of children murdered?   \n",
       "1                          Where was one employee killed?   \n",
       "2                          Where was one employee killed?   \n",
       "3       who did say South Africa did not issue a visa ...   \n",
       "4       who did say South Africa did not issue a visa ...   \n",
       "...                                                   ...   \n",
       "191134                 what is this pattern is all about?   \n",
       "191135                what are the men being detained for   \n",
       "191136                what are the men being detained for   \n",
       "191137  In what year didIvory Coast exit in group stag...   \n",
       "191138                            Where was Jackson born?   \n",
       "\n",
       "                                       answer_char_ranges  is_answer_absent  \n",
       "0                                                 294:297               0.0  \n",
       "1                                                   34:60               0.0  \n",
       "2                                               1610:1618               0.0  \n",
       "3                                                 103:127               0.0  \n",
       "4                                                 114:127               0.0  \n",
       "...                                                   ...               ...  \n",
       "191134  1570:1581,1589:1612,1624:1829,1830:1904,2180:2...               0.0  \n",
       "191135                                          2386:2435               0.0  \n",
       "191136                                          1146:1167               0.0  \n",
       "191137                                          1260:1265               0.0  \n",
       "191138                                              22:37               0.0  \n",
       "\n",
       "[191139 rows x 4 columns]"
      ]
     },
     "execution_count": 43,
     "metadata": {},
     "output_type": "execute_result"
    }
   ],
   "source": [
    "question_answer"
   ]
  },
  {
   "cell_type": "code",
   "execution_count": 52,
   "metadata": {},
   "outputs": [
    {
     "name": "stdout",
     "output_type": "stream",
     "text": [
      "./data/stories/c48228a52f26aca65c31fad273e66164f047f292.story\n",
      " Seleia, one of\n"
     ]
    }
   ],
   "source": [
    "file_path = \"./data\" + question_answer[\"story_id\"][2][5:]\n",
    "print(file_path)\n",
    "# Open the file and read its contents\n",
    "with open(file_path, 'r', encoding='utf-8') as file:\n",
    "    file_contents = file.read()\n",
    "\n",
    "# Print the contents of the file\n",
    "print(file_contents[1595:1610])"
   ]
  },
  {
   "cell_type": "code",
   "execution_count": 48,
   "metadata": {},
   "outputs": [
    {
     "name": "stdout",
     "output_type": "stream",
     "text": [
      "NEW DELHI, India (CNN) -- A high court in northern India on Friday acquitted a wealthy businessman facing the death sentence for the killing of a teen in a case dubbed \"the house of horrors.\"\n",
      "\n",
      "Moninder Singh Pandher was sentenced to death by a lower court in February.\n",
      "\n",
      "The teen was one of 19 victims -- children and young women -- in one of the most gruesome serial killings in India in recent years.\n",
      "\n",
      "The Allahabad high court has acquitted Moninder Singh Pandher, his lawyer Sikandar B. Kochar told CNN.\n",
      "\n",
      "Pandher and his domestic employee Surinder Koli were sentenced to death in February by a lower court for the rape and murder of the 14-year-old.\n",
      "\n",
      "The high court upheld Koli's death sentence, Kochar said.\n",
      "\n",
      "The two were arrested two years ago after body parts packed in plastic bags were found near their home in Noida, a New Delhi suburb. Their home was later dubbed a \"house of horrors\" by the Indian media.\n",
      "\n",
      "Pandher was not named a main suspect by investigators initially, but was summoned as co-accused during the trial, Kochar said.\n",
      "\n",
      "Kochar said his client was in Australia when the teen was raped and killed.\n",
      "\n",
      "Pandher faces trial in the remaining 18 killings and could remain in custody, the attorney said.\n",
      "\n",
      "@highlight\n",
      "\n",
      "Court acquitted Moninder Singh Pandher for the killing of a teen\n",
      "\n",
      "@highlight\n",
      "\n",
      "14-year old was one of 19 children and young women murdered\n",
      "\n",
      "@highlight\n",
      "\n",
      "Pandher and a domestic employee sentenced to death in February by lower court\n"
     ]
    }
   ],
   "source": [
    "print(file_contents)"
   ]
  },
  {
   "cell_type": "code",
   "execution_count": null,
   "metadata": {},
   "outputs": [],
   "source": []
  }
 ],
 "metadata": {
  "kernelspec": {
   "display_name": "Python 3",
   "language": "python",
   "name": "python3"
  },
  "language_info": {
   "codemirror_mode": {
    "name": "ipython",
    "version": 3
   },
   "file_extension": ".py",
   "mimetype": "text/x-python",
   "name": "python",
   "nbconvert_exporter": "python",
   "pygments_lexer": "ipython3",
   "version": "3.10.7"
  }
 },
 "nbformat": 4,
 "nbformat_minor": 2
}
