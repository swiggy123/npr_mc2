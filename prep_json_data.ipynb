{
 "cells": [
  {
   "cell_type": "markdown",
   "metadata": {},
   "source": [
    "### Preprocessing"
   ]
  },
  {
   "cell_type": "code",
   "execution_count": 115,
   "metadata": {},
   "outputs": [],
   "source": [
    "import json\n",
    "import numpy as np\n",
    "import pandas as pd\n",
    "from sklearn.model_selection import GroupKFold\n",
    "\n",
    "def proccess_data(json):\n",
    "    rows = []\n",
    "    for paragraphs in json:\n",
    "        for paragraph in paragraphs[\"paragraphs\"]:\n",
    "            context = paragraph[\"context\"]\n",
    "            for qa in paragraph[\"qas\"]:\n",
    "                answer = [answer[\"text\"] for answer in qa[\"answers\"]]\n",
    "                if len(answer) == 1:\n",
    "                    answer = answer[0]\n",
    "                row = {\n",
    "                    \"context\": context,\n",
    "                    \"answers_text\": answer,\n",
    "                    \"is_impossible\": qa[\"is_impossible\"],\n",
    "                    \"question\": qa[\"question\"]\n",
    "                }\n",
    "                rows.append(row)\n",
    "\n",
    "    df = pd.DataFrame(rows).drop_duplicates()\n",
    "    return df"
   ]
  },
  {
   "cell_type": "code",
   "execution_count": 116,
   "metadata": {},
   "outputs": [],
   "source": [
    "file_path = \"./data/raw_data/newsqa_train.json\"\n",
    "with open(file_path, 'r', encoding='utf-8') as file:\n",
    "    data = json.load(file)[\"data\"]"
   ]
  },
  {
   "cell_type": "code",
   "execution_count": 117,
   "metadata": {},
   "outputs": [
    {
     "data": {
      "text/html": [
       "<div>\n",
       "<style scoped>\n",
       "    .dataframe tbody tr th:only-of-type {\n",
       "        vertical-align: middle;\n",
       "    }\n",
       "\n",
       "    .dataframe tbody tr th {\n",
       "        vertical-align: top;\n",
       "    }\n",
       "\n",
       "    .dataframe thead th {\n",
       "        text-align: right;\n",
       "    }\n",
       "</style>\n",
       "<table border=\"1\" class=\"dataframe\">\n",
       "  <thead>\n",
       "    <tr style=\"text-align: right;\">\n",
       "      <th></th>\n",
       "      <th>context</th>\n",
       "      <th>answers_text</th>\n",
       "      <th>is_impossible</th>\n",
       "      <th>question</th>\n",
       "    </tr>\n",
       "  </thead>\n",
       "  <tbody>\n",
       "    <tr>\n",
       "      <th>0</th>\n",
       "      <td>NEW DELHI , India -LRB- CNN -RRB- -- A high co...</td>\n",
       "      <td>19</td>\n",
       "      <td>False</td>\n",
       "      <td>What was the amount of children murdered ?</td>\n",
       "    </tr>\n",
       "    <tr>\n",
       "      <th>1</th>\n",
       "      <td>-LRB- CNN -RRB- -- Fighting in the volatile Su...</td>\n",
       "      <td>Sudanese region of Darfur</td>\n",
       "      <td>False</td>\n",
       "      <td>Where was one employee killed ?</td>\n",
       "    </tr>\n",
       "    <tr>\n",
       "      <th>2</th>\n",
       "      <td>Johannesburg -LRB- CNN -RRB- -- Miffed by a vi...</td>\n",
       "      <td>Archbishop Desmond Tutu</td>\n",
       "      <td>False</td>\n",
       "      <td>who did say South Africa did not issue a visa ...</td>\n",
       "    </tr>\n",
       "    <tr>\n",
       "      <th>3</th>\n",
       "      <td>-LRB- CNN -RRB- -- England international footb...</td>\n",
       "      <td>29-year-old</td>\n",
       "      <td>False</td>\n",
       "      <td>How many years old was the businessman ?</td>\n",
       "    </tr>\n",
       "    <tr>\n",
       "      <th>4</th>\n",
       "      <td>BAGHDAD , Iraq -LRB- CNN -RRB- -- At least 6,0...</td>\n",
       "      <td>a series of killings and threats by Muslim ext...</td>\n",
       "      <td>False</td>\n",
       "      <td>What frightened the families ?</td>\n",
       "    </tr>\n",
       "  </tbody>\n",
       "</table>\n",
       "</div>"
      ],
      "text/plain": [
       "                                             context  \\\n",
       "0  NEW DELHI , India -LRB- CNN -RRB- -- A high co...   \n",
       "1  -LRB- CNN -RRB- -- Fighting in the volatile Su...   \n",
       "2  Johannesburg -LRB- CNN -RRB- -- Miffed by a vi...   \n",
       "3  -LRB- CNN -RRB- -- England international footb...   \n",
       "4  BAGHDAD , Iraq -LRB- CNN -RRB- -- At least 6,0...   \n",
       "\n",
       "                                        answers_text  is_impossible  \\\n",
       "0                                                 19          False   \n",
       "1                          Sudanese region of Darfur          False   \n",
       "2                            Archbishop Desmond Tutu          False   \n",
       "3                                        29-year-old          False   \n",
       "4  a series of killings and threats by Muslim ext...          False   \n",
       "\n",
       "                                            question  \n",
       "0         What was the amount of children murdered ?  \n",
       "1                    Where was one employee killed ?  \n",
       "2  who did say South Africa did not issue a visa ...  \n",
       "3           How many years old was the businessman ?  \n",
       "4                     What frightened the families ?  "
      ]
     },
     "execution_count": 117,
     "metadata": {},
     "output_type": "execute_result"
    }
   ],
   "source": [
    "train = proccess_data(data)\n",
    "train.head()  # Displaying the first few rows of the dataframe"
   ]
  },
  {
   "cell_type": "code",
   "execution_count": 118,
   "metadata": {},
   "outputs": [
    {
     "data": {
      "text/html": [
       "<div>\n",
       "<style scoped>\n",
       "    .dataframe tbody tr th:only-of-type {\n",
       "        vertical-align: middle;\n",
       "    }\n",
       "\n",
       "    .dataframe tbody tr th {\n",
       "        vertical-align: top;\n",
       "    }\n",
       "\n",
       "    .dataframe thead th {\n",
       "        text-align: right;\n",
       "    }\n",
       "</style>\n",
       "<table border=\"1\" class=\"dataframe\">\n",
       "  <thead>\n",
       "    <tr style=\"text-align: right;\">\n",
       "      <th></th>\n",
       "      <th>context</th>\n",
       "      <th>answers_text</th>\n",
       "      <th>is_impossible</th>\n",
       "      <th>question</th>\n",
       "    </tr>\n",
       "  </thead>\n",
       "  <tbody>\n",
       "    <tr>\n",
       "      <th>0</th>\n",
       "      <td>TEHRAN , Iran -LRB- CNN -RRB- -- Iran 's parli...</td>\n",
       "      <td>U.S. President-elect Barack Obama</td>\n",
       "      <td>False</td>\n",
       "      <td>Iran criticizes who ?</td>\n",
       "    </tr>\n",
       "    <tr>\n",
       "      <th>1</th>\n",
       "      <td>LONDON , England -LRB- CNN -RRB- -- Israeli mi...</td>\n",
       "      <td>hit and set on fire</td>\n",
       "      <td>False</td>\n",
       "      <td>What happened to the U.N. compound ?</td>\n",
       "    </tr>\n",
       "    <tr>\n",
       "      <th>2</th>\n",
       "      <td>WASHINGTON -LRB- CNN -RRB- -- There are no imm...</td>\n",
       "      <td>President Obama</td>\n",
       "      <td>False</td>\n",
       "      <td>Who said there is no immediate plans for deplo...</td>\n",
       "    </tr>\n",
       "    <tr>\n",
       "      <th>3</th>\n",
       "      <td>LOS ANGELES , California -LRB- CNN -RRB- -- Fo...</td>\n",
       "      <td>intends to follow up with</td>\n",
       "      <td>False</td>\n",
       "      <td>Will Lieberman investigate further ?</td>\n",
       "    </tr>\n",
       "    <tr>\n",
       "      <th>4</th>\n",
       "      <td>-LRB- CNN -RRB- -- A Colorado prosecutor Frida...</td>\n",
       "      <td>Tim Masters</td>\n",
       "      <td>False</td>\n",
       "      <td>Who spent nine years in prison ?</td>\n",
       "    </tr>\n",
       "  </tbody>\n",
       "</table>\n",
       "</div>"
      ],
      "text/plain": [
       "                                             context  \\\n",
       "0  TEHRAN , Iran -LRB- CNN -RRB- -- Iran 's parli...   \n",
       "1  LONDON , England -LRB- CNN -RRB- -- Israeli mi...   \n",
       "2  WASHINGTON -LRB- CNN -RRB- -- There are no imm...   \n",
       "3  LOS ANGELES , California -LRB- CNN -RRB- -- Fo...   \n",
       "4  -LRB- CNN -RRB- -- A Colorado prosecutor Frida...   \n",
       "\n",
       "                        answers_text  is_impossible  \\\n",
       "0  U.S. President-elect Barack Obama          False   \n",
       "1                hit and set on fire          False   \n",
       "2                    President Obama          False   \n",
       "3          intends to follow up with          False   \n",
       "4                        Tim Masters          False   \n",
       "\n",
       "                                            question  \n",
       "0                              Iran criticizes who ?  \n",
       "1               What happened to the U.N. compound ?  \n",
       "2  Who said there is no immediate plans for deplo...  \n",
       "3               Will Lieberman investigate further ?  \n",
       "4                   Who spent nine years in prison ?  "
      ]
     },
     "execution_count": 118,
     "metadata": {},
     "output_type": "execute_result"
    }
   ],
   "source": [
    "file_path = \"./data/raw_data/newsqa_dev.json\"\n",
    "with open(file_path, 'r', encoding='utf-8') as file:\n",
    "    data = json.load(file)[\"data\"]\n",
    "\n",
    "test = proccess_data(data)\n",
    "test.head()  # Displaying the first few rows of the dataframe"
   ]
  },
  {
   "cell_type": "markdown",
   "metadata": {},
   "source": [
    "### check data for obvious mistakes"
   ]
  },
  {
   "cell_type": "code",
   "execution_count": 119,
   "metadata": {},
   "outputs": [],
   "source": [
    "assert np.array([type(lst)!=list for lst in test[\"answers_text\"]]).all()\n",
    "assert np.array([type(lst)!=list for lst in train[\"answers_text\"]]).all()"
   ]
  },
  {
   "cell_type": "code",
   "execution_count": 120,
   "metadata": {},
   "outputs": [],
   "source": [
    "assert not train[\"is_impossible\"].any()\n",
    "assert not test[\"is_impossible\"].any()"
   ]
  },
  {
   "cell_type": "code",
   "execution_count": 121,
   "metadata": {},
   "outputs": [],
   "source": [
    "min_text_length = 100\n",
    "assert min_text_length < min(np.array([len(cont) for cont in train[\"context\"]]))\n",
    "assert min_text_length < min(np.array([len(cont) for cont in test[\"context\"]]))"
   ]
  },
  {
   "cell_type": "markdown",
   "metadata": {},
   "source": [
    "### set cross-validation folds"
   ]
  },
  {
   "cell_type": "code",
   "execution_count": 126,
   "metadata": {},
   "outputs": [
    {
     "data": {
      "text/html": [
       "<div>\n",
       "<style scoped>\n",
       "    .dataframe tbody tr th:only-of-type {\n",
       "        vertical-align: middle;\n",
       "    }\n",
       "\n",
       "    .dataframe tbody tr th {\n",
       "        vertical-align: top;\n",
       "    }\n",
       "\n",
       "    .dataframe thead th {\n",
       "        text-align: right;\n",
       "    }\n",
       "</style>\n",
       "<table border=\"1\" class=\"dataframe\">\n",
       "  <thead>\n",
       "    <tr style=\"text-align: right;\">\n",
       "      <th></th>\n",
       "      <th>context</th>\n",
       "      <th>answers_text</th>\n",
       "      <th>is_impossible</th>\n",
       "      <th>question</th>\n",
       "      <th>fold</th>\n",
       "    </tr>\n",
       "  </thead>\n",
       "  <tbody>\n",
       "    <tr>\n",
       "      <th>0</th>\n",
       "      <td>NEW DELHI , India -LRB- CNN -RRB- -- A high co...</td>\n",
       "      <td>19</td>\n",
       "      <td>False</td>\n",
       "      <td>What was the amount of children murdered ?</td>\n",
       "      <td>2</td>\n",
       "    </tr>\n",
       "    <tr>\n",
       "      <th>1</th>\n",
       "      <td>-LRB- CNN -RRB- -- Fighting in the volatile Su...</td>\n",
       "      <td>Sudanese region of Darfur</td>\n",
       "      <td>False</td>\n",
       "      <td>Where was one employee killed ?</td>\n",
       "      <td>2</td>\n",
       "    </tr>\n",
       "    <tr>\n",
       "      <th>2</th>\n",
       "      <td>Johannesburg -LRB- CNN -RRB- -- Miffed by a vi...</td>\n",
       "      <td>Archbishop Desmond Tutu</td>\n",
       "      <td>False</td>\n",
       "      <td>who did say South Africa did not issue a visa ...</td>\n",
       "      <td>4</td>\n",
       "    </tr>\n",
       "    <tr>\n",
       "      <th>3</th>\n",
       "      <td>-LRB- CNN -RRB- -- England international footb...</td>\n",
       "      <td>29-year-old</td>\n",
       "      <td>False</td>\n",
       "      <td>How many years old was the businessman ?</td>\n",
       "      <td>2</td>\n",
       "    </tr>\n",
       "    <tr>\n",
       "      <th>4</th>\n",
       "      <td>BAGHDAD , Iraq -LRB- CNN -RRB- -- At least 6,0...</td>\n",
       "      <td>a series of killings and threats by Muslim ext...</td>\n",
       "      <td>False</td>\n",
       "      <td>What frightened the families ?</td>\n",
       "      <td>4</td>\n",
       "    </tr>\n",
       "  </tbody>\n",
       "</table>\n",
       "</div>"
      ],
      "text/plain": [
       "                                             context  \\\n",
       "0  NEW DELHI , India -LRB- CNN -RRB- -- A high co...   \n",
       "1  -LRB- CNN -RRB- -- Fighting in the volatile Su...   \n",
       "2  Johannesburg -LRB- CNN -RRB- -- Miffed by a vi...   \n",
       "3  -LRB- CNN -RRB- -- England international footb...   \n",
       "4  BAGHDAD , Iraq -LRB- CNN -RRB- -- At least 6,0...   \n",
       "\n",
       "                                        answers_text  is_impossible  \\\n",
       "0                                                 19          False   \n",
       "1                          Sudanese region of Darfur          False   \n",
       "2                            Archbishop Desmond Tutu          False   \n",
       "3                                        29-year-old          False   \n",
       "4  a series of killings and threats by Muslim ext...          False   \n",
       "\n",
       "                                            question  fold  \n",
       "0         What was the amount of children murdered ?     2  \n",
       "1                    Where was one employee killed ?     2  \n",
       "2  who did say South Africa did not issue a visa ...     4  \n",
       "3           How many years old was the businessman ?     2  \n",
       "4                     What frightened the families ?     4  "
      ]
     },
     "execution_count": 126,
     "metadata": {},
     "output_type": "execute_result"
    }
   ],
   "source": [
    "n_folds = 5\n",
    "train = train.reset_index(drop=True)\n",
    "# Initialize GroupKFold\n",
    "gkf = GroupKFold(n_splits=n_folds)\n",
    "\n",
    "# Assigning each row to a fold, using 'context' as the group\n",
    "groups = train['context']\n",
    "train[\"fold\"] = -1\n",
    "\n",
    "for fold, (train_idx, val_idx) in enumerate(gkf.split(train, groups=groups)):\n",
    "    train.loc[val_idx, \"fold\"] = fold\n",
    "\n",
    "train.head()  # Displaying the first few rows of the dataframe with the 'fold' column added\n"
   ]
  },
  {
   "cell_type": "code",
   "execution_count": 142,
   "metadata": {},
   "outputs": [],
   "source": [
    "context_folds = train.groupby('context')['fold'].nunique()\n",
    "assert len(context_folds[context_folds > 1]) == 0"
   ]
  },
  {
   "cell_type": "markdown",
   "metadata": {},
   "source": [
    "### save data"
   ]
  },
  {
   "cell_type": "code",
   "execution_count": 143,
   "metadata": {},
   "outputs": [],
   "source": [
    "test.to_csv(\"./data/data/test.csv\")\n",
    "train.to_csv(\"./data/data/train.csv\")"
   ]
  }
 ],
 "metadata": {
  "kernelspec": {
   "display_name": "Python 3",
   "language": "python",
   "name": "python3"
  },
  "language_info": {
   "codemirror_mode": {
    "name": "ipython",
    "version": 3
   },
   "file_extension": ".py",
   "mimetype": "text/x-python",
   "name": "python",
   "nbconvert_exporter": "python",
   "pygments_lexer": "ipython3",
   "version": "3.10.7"
  }
 },
 "nbformat": 4,
 "nbformat_minor": 2
}
